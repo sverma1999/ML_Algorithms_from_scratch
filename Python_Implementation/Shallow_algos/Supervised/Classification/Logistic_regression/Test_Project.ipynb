{
 "cells": [
  {
   "cell_type": "code",
   "execution_count": 5,
   "metadata": {},
   "outputs": [],
   "source": [
    "from log_reg_code import Logistic_regression"
   ]
  },
  {
   "cell_type": "code",
   "execution_count": 11,
   "metadata": {},
   "outputs": [
    {
     "ename": "TypeError",
     "evalue": "'module' object is not callable",
     "output_type": "error",
     "traceback": [
      "\u001b[0;31m---------------------------------------------------------------------------\u001b[0m",
      "\u001b[0;31mTypeError\u001b[0m                                 Traceback (most recent call last)",
      "Cell \u001b[0;32mIn[11], line 13\u001b[0m\n\u001b[1;32m      8\u001b[0m X, y \u001b[38;5;241m=\u001b[39m dataset\u001b[38;5;241m.\u001b[39mdata, dataset\u001b[38;5;241m.\u001b[39mtarget\n\u001b[1;32m      9\u001b[0m X_train, X_test, y_train, y_test \u001b[38;5;241m=\u001b[39m train_test_split(\n\u001b[1;32m     10\u001b[0m     X, y, test_size\u001b[38;5;241m=\u001b[39m\u001b[38;5;241m0.2\u001b[39m, random_state\u001b[38;5;241m=\u001b[39m\u001b[38;5;241m43\u001b[39m\n\u001b[1;32m     11\u001b[0m )\n\u001b[0;32m---> 13\u001b[0m regressor \u001b[38;5;241m=\u001b[39m \u001b[43mLogistic_regression\u001b[49m\u001b[43m(\u001b[49m\u001b[43mlearning_rate\u001b[49m\u001b[38;5;241;43m=\u001b[39;49m\u001b[38;5;241;43m0.0001\u001b[39;49m\u001b[43m,\u001b[49m\u001b[43m \u001b[49m\u001b[43mn_iters\u001b[49m\u001b[38;5;241;43m=\u001b[39;49m\u001b[38;5;241;43m1000\u001b[39;49m\u001b[43m)\u001b[49m\n\u001b[1;32m     14\u001b[0m \u001b[38;5;66;03m# regressor.fit(X_train, y_train)\u001b[39;00m\n\u001b[1;32m     15\u001b[0m \u001b[38;5;66;03m# predictions = regressor.predict(X_test)\u001b[39;00m\n\u001b[1;32m     16\u001b[0m \n\u001b[0;32m   (...)\u001b[0m\n\u001b[1;32m     27\u001b[0m \u001b[38;5;66;03m# # print the intercept\u001b[39;00m\n\u001b[1;32m     28\u001b[0m \u001b[38;5;66;03m# print(\"Intercept:\", regressor._bias)\u001b[39;00m\n",
      "\u001b[0;31mTypeError\u001b[0m: 'module' object is not callable"
     ]
    }
   ],
   "source": [
    "from sklearn.model_selection import train_test_split\n",
    "from sklearn import datasets\n",
    "from sklearn.metrics import accuracy_score, confusion_matrix\n",
    "\n",
    "dataset = datasets.load_breast_cancer()\n",
    "X, y = dataset.data, dataset.target\n",
    "\n",
    "X, y = dataset.data, dataset.target\n",
    "X_train, X_test, y_train, y_test = train_test_split(\n",
    "    X, y, test_size=0.2, random_state=43\n",
    ")\n",
    "\n",
    "# regressor = Logistic_regression(learning_rate=0.0001, n_iters=1000)\n",
    "# regressor.fit(X_train, y_train)\n",
    "# predictions = regressor.predict(X_test)\n",
    "\n",
    "# # confusion matrix\n",
    "# print(\"Confusion Matrix:\")\n",
    "# print(confusion_matrix(y_test, predictions))\n",
    "\n",
    "# # accuracy\n",
    "# print(\"Accuracy:\", accuracy_score(y_test, predictions))\n",
    "\n",
    "# # print the coefficients\n",
    "# print(\"Coefficients:\", regressor._weights)\n",
    "\n",
    "# # print the intercept\n",
    "# print(\"Intercept:\", regressor._bias)"
   ]
  },
  {
   "cell_type": "code",
   "execution_count": null,
   "metadata": {},
   "outputs": [],
   "source": []
  }
 ],
 "metadata": {
  "kernelspec": {
   "display_name": "AlgoFrmScratch",
   "language": "python",
   "name": "python3"
  },
  "language_info": {
   "codemirror_mode": {
    "name": "ipython",
    "version": 3
   },
   "file_extension": ".py",
   "mimetype": "text/x-python",
   "name": "python",
   "nbconvert_exporter": "python",
   "pygments_lexer": "ipython3",
   "version": "3.8.18"
  }
 },
 "nbformat": 4,
 "nbformat_minor": 2
}
